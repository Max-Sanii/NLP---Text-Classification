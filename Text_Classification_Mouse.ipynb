{
 "cells": [
  {
   "cell_type": "markdown",
   "id": "efad1632-42fb-4563-b6f9-ec32a8761c23",
   "metadata": {},
   "source": [
    "# Natural Language Processing - Text Classification $\\;\\;\\;\\;\\;\\;$                       Max Sanii $\\;\\;\\;\\;\\;\\;$                              11/01/2021"
   ]
  },
  {
   "cell_type": "markdown",
   "id": "c5afcead-096a-425e-8ae6-cbada7ba482d",
   "metadata": {},
   "source": [
    "## <br>Project Contents:\n",
    "- 1. Load dataset\n",
    "- 2. Preprocess dataset\n",
    "- 3. EDA\n",
    "- 4. Text Preprocessing, Tokenization, Lemmatization, and Stop Words Removal\n",
    "- 5. Splitting Data for Train and Test\n",
    "- 6. Word Embedding Approaches:\n",
    "        * Count Vectorizer\n",
    "        * TF-IDF\n",
    "        * N-gram level TF-IDF \n",
    "- 7. Train Model with Logistic Regression\n",
    "- 8. Train Model with Naive Bayesian\n",
    "- 9. Ensembling Models"
   ]
  },
  {
   "cell_type": "code",
   "execution_count": null,
   "id": "2de14598-5d1f-45fe-85a5-f2c85449e023",
   "metadata": {},
   "outputs": [],
   "source": [
    "import numpy as np\n",
    "import pandas as pd\n",
    "from collections import Counter\n",
    "from sklearn.model_selection import train_test_split\n",
    "from sklearn.preprocessing import LabelEncoder\n",
    "import matplotlib.pyplot as plt\n",
    "\n",
    "# Models\n",
    "from sklearn import model_selection, preprocessing, linear_model, naive_bayes, metrics\n",
    "\n",
    "# Vectorization\n",
    "from sklearn.feature_extraction.text import TfidfVectorizer, CountVectorizer\n",
    "\n",
    "# Metrics\n",
    "from sklearn.metrics import confusion_matrix, auc, roc_curve, accuracy_score, classification_report\n",
    "\n",
    "# Text processing\n",
    "import re, string\n",
    "import nltk\n",
    "from nltk.tokenize import word_tokenize\n",
    "from nltk.corpus import stopwords\n",
    "from nltk.tokenize import word_tokenize\n",
    "from nltk.stem import SnowballStemmer\n",
    "from nltk.corpus import wordnet\n",
    "from nltk.stem import WordNetLemmatizer\n",
    "\n",
    "#from warnings import simplefilter\n",
    "#from sklearn.exceptions import ConvergenceWarning\n",
    "#simplefilter(\"ignore\", category=ConvergenceWarning)\n",
    "\n",
    "le = LabelEncoder()"
   ]
  },
  {
   "cell_type": "markdown",
   "id": "a975d533-4b99-4f7e-a1b8-78fde35d9774",
   "metadata": {},
   "source": [
    "## Load the dataset"
   ]
  },
  {
   "cell_type": "code",
   "execution_count": 154,
   "id": "ab06804e-e017-4717-8e65-77bb37bc29c6",
   "metadata": {},
   "outputs": [],
   "source": [
    "animal_ds = pd.read_csv(\"C:/Python/Scripts/Test_Datasets/animal.csv\")\n",
    "computer_ds = pd.read_csv(\"C:/Python/Scripts/Test_Datasets/computer.csv\")"
   ]
  },
  {
   "cell_type": "markdown",
   "id": "ffbed0d8-a208-4ba1-b8d7-fbff7968e667",
   "metadata": {},
   "source": [
    "## Preprocess the dataset"
   ]
  },
  {
   "cell_type": "code",
   "execution_count": 155,
   "id": "b6780b89-f9c9-4989-b397-5e5789c50590",
   "metadata": {},
   "outputs": [
    {
     "name": "stdout",
     "output_type": "stream",
     "text": [
      "(22304, 1)\n",
      "(25887, 1)\n"
     ]
    }
   ],
   "source": [
    "print(animal_ds.shape)\n",
    "print(computer_ds.shape)"
   ]
  },
  {
   "cell_type": "code",
   "execution_count": 156,
   "id": "018761f9-a4b6-4a7b-a1ab-fd97c2561431",
   "metadata": {},
   "outputs": [],
   "source": [
    "# Label the corresponding dataset to either animal or computer\n",
    "animal_ds['label'] = 'animal'\n",
    "computer_ds['label'] = 'computer'"
   ]
  },
  {
   "cell_type": "code",
   "execution_count": 157,
   "id": "becbd6b4-c47d-4af8-bf4d-da665910d351",
   "metadata": {},
   "outputs": [
    {
     "data": {
      "text/html": [
       "<div>\n",
       "<style scoped>\n",
       "    .dataframe tbody tr th:only-of-type {\n",
       "        vertical-align: middle;\n",
       "    }\n",
       "\n",
       "    .dataframe tbody tr th {\n",
       "        vertical-align: top;\n",
       "    }\n",
       "\n",
       "    .dataframe thead th {\n",
       "        text-align: right;\n",
       "    }\n",
       "</style>\n",
       "<table border=\"1\" class=\"dataframe\">\n",
       "  <thead>\n",
       "    <tr style=\"text-align: right;\">\n",
       "      <th></th>\n",
       "      <th>text</th>\n",
       "      <th>label</th>\n",
       "    </tr>\n",
       "  </thead>\n",
       "  <tbody>\n",
       "    <tr>\n",
       "      <th>0</th>\n",
       "      <td>they can breed any time of the year their gest...</td>\n",
       "      <td>animal</td>\n",
       "    </tr>\n",
       "    <tr>\n",
       "      <th>1</th>\n",
       "      <td>mouse the keystone cops of rodents</td>\n",
       "      <td>animal</td>\n",
       "    </tr>\n",
       "    <tr>\n",
       "      <th>2</th>\n",
       "      <td>some species of the jerboa family have long ea...</td>\n",
       "      <td>animal</td>\n",
       "    </tr>\n",
       "    <tr>\n",
       "      <th>3</th>\n",
       "      <td>they use quadrupedal locomotion but their larg...</td>\n",
       "      <td>animal</td>\n",
       "    </tr>\n",
       "    <tr>\n",
       "      <th>4</th>\n",
       "      <td>armenian birch mouse</td>\n",
       "      <td>animal</td>\n",
       "    </tr>\n",
       "    <tr>\n",
       "      <th>...</th>\n",
       "      <td>...</td>\n",
       "      <td>...</td>\n",
       "    </tr>\n",
       "    <tr>\n",
       "      <th>48186</th>\n",
       "      <td>with my new fancy wireless mouse that won and ...</td>\n",
       "      <td>computer</td>\n",
       "    </tr>\n",
       "    <tr>\n",
       "      <th>48187</th>\n",
       "      <td>wireless keyboard amp mouse for lg la led smar...</td>\n",
       "      <td>computer</td>\n",
       "    </tr>\n",
       "    <tr>\n",
       "      <th>48188</th>\n",
       "      <td>don play so don care about this but realized t...</td>\n",
       "      <td>computer</td>\n",
       "    </tr>\n",
       "    <tr>\n",
       "      <th>48189</th>\n",
       "      <td>this looks like wireless apple mouse</td>\n",
       "      <td>computer</td>\n",
       "    </tr>\n",
       "    <tr>\n",
       "      <th>48190</th>\n",
       "      <td>went to use my wireless mouse for the first ti...</td>\n",
       "      <td>computer</td>\n",
       "    </tr>\n",
       "  </tbody>\n",
       "</table>\n",
       "<p>48191 rows × 2 columns</p>\n",
       "</div>"
      ],
      "text/plain": [
       "                                                    text     label\n",
       "0      they can breed any time of the year their gest...    animal\n",
       "1                     mouse the keystone cops of rodents    animal\n",
       "2      some species of the jerboa family have long ea...    animal\n",
       "3      they use quadrupedal locomotion but their larg...    animal\n",
       "4                                   armenian birch mouse    animal\n",
       "...                                                  ...       ...\n",
       "48186  with my new fancy wireless mouse that won and ...  computer\n",
       "48187  wireless keyboard amp mouse for lg la led smar...  computer\n",
       "48188  don play so don care about this but realized t...  computer\n",
       "48189               this looks like wireless apple mouse  computer\n",
       "48190  went to use my wireless mouse for the first ti...  computer\n",
       "\n",
       "[48191 rows x 2 columns]"
      ]
     },
     "execution_count": 157,
     "metadata": {},
     "output_type": "execute_result"
    }
   ],
   "source": [
    "# concatenate both animal and computer records into one dataset\n",
    "df = pd.concat([animal_ds, computer_ds]).reset_index(drop=True)\n",
    "df"
   ]
  },
  {
   "cell_type": "markdown",
   "id": "9b8964da-91a5-47fa-be65-ed71df74ab4c",
   "metadata": {},
   "source": [
    "## EDA"
   ]
  },
  {
   "cell_type": "code",
   "execution_count": 158,
   "id": "1f230cdf-cd15-4ff1-a5bb-931d4e5aae7a",
   "metadata": {},
   "outputs": [
    {
     "data": {
      "image/png": "[encoded data removed]",
      "text/plain": [
       "<Figure size 720x576 with 1 Axes>"
      ]
     },
     "metadata": {
      "needs_background": "light"
     },
     "output_type": "display_data"
    }
   ],
   "source": [
    "ax = df['label'].value_counts().plot(kind='barh', figsize=(10,8), title=\"Distribution of Labels\",color = list('gc'))\n",
    "ax.set_xlabel(\"Class\")\n",
    "ax.set_ylabel(\"Frequency\")\n",
    "plt.show()"
   ]
  },
  {
   "cell_type": "markdown",
   "id": "334be9cf-ff80-4500-a84c-340140b6d1f4",
   "metadata": {},
   "source": [
    "## Text Preprocessing, Tokenization, Lemmatization, and Stop Words Removal"
   ]
  },
  {
   "cell_type": "code",
   "execution_count": 159,
   "id": "8eb64987-1cfd-4829-9a50-1db8d703c796",
   "metadata": {},
   "outputs": [
    {
     "data": {
      "text/plain": [
       "48191"
      ]
     },
     "execution_count": 159,
     "metadata": {},
     "output_type": "execute_result"
    }
   ],
   "source": [
    "# Drop the empty texts\n",
    "df = df.dropna(subset=['text'])\n",
    "len(df)"
   ]
  },
  {
   "cell_type": "code",
   "execution_count": 160,
   "id": "63a01d4e-29f6-4e1d-b8ce-d899bc1702b4",
   "metadata": {},
   "outputs": [
    {
     "name": "stdout",
     "output_type": "stream",
     "text": [
      "                                                    text  label\n",
      "0      they can breed any time of the year their gest...      0\n",
      "1                     mouse the keystone cops of rodents      0\n",
      "2      some species of the jerboa family have long ea...      0\n",
      "3      they use quadrupedal locomotion but their larg...      0\n",
      "4                                   armenian birch mouse      0\n",
      "...                                                  ...    ...\n",
      "48186  with my new fancy wireless mouse that won and ...      1\n",
      "48187  wireless keyboard amp mouse for lg la led smar...      1\n",
      "48188  don play so don care about this but realized t...      1\n",
      "48189               this looks like wireless apple mouse      1\n",
      "48190  went to use my wireless mouse for the first ti...      1\n",
      "\n",
      "[48191 rows x 2 columns]\n"
     ]
    }
   ],
   "source": [
    "# Encode the labels into binary values (Animal will be 0, and Computer 1)\n",
    "\n",
    "lb_make = LabelEncoder()\n",
    "df[\"label\"] = lb_make.fit_transform(df[\"label\"])\n",
    "print(df[[\"text\", \"label\"]])"
   ]
  },
  {
   "cell_type": "code",
   "execution_count": 163,
   "id": "7bcce028-7331-4ea2-b8b6-15e7c06be77f",
   "metadata": {},
   "outputs": [],
   "source": [
    "# Convert to lowercase, and strip\n",
    "def preprocess(text):\n",
    "    text = text.lower() \n",
    "    text=text.strip()\n",
    "    return text\n",
    "\n",
    "# Stopword Removal\n",
    "def stopword(string):\n",
    "    a= [i for i in string.split() if i not in stopwords.words('english')]\n",
    "    return ' '.join(a)\n",
    "\n",
    "# Lemmatization\n",
    "wl = WordNetLemmatizer()\n",
    " \n",
    "# Helper function to map NTLK position tags to its label\n",
    "def get_wordnet_pos(tag):\n",
    "    if tag.startswith('J'):\n",
    "        return wordnet.ADJ\n",
    "    elif tag.startswith('V'):\n",
    "        return wordnet.VERB\n",
    "    elif tag.startswith('N'):\n",
    "        return wordnet.NOUN\n",
    "    elif tag.startswith('R'):\n",
    "        return wordnet.ADV\n",
    "    else:\n",
    "        return wordnet.NOUN\n",
    "    \n",
    "# Tokenize the sentence\n",
    "def lemmatizer(string):\n",
    "    # mark up the words to position tags based on their definition and context\n",
    "    word_pos_tags = nltk.pos_tag(word_tokenize(string)) \n",
    "    # Map the position tag and lemmatize the word/token\n",
    "    a=[wl.lemmatize(tag[0], get_wordnet_pos(tag[1])) for idx, tag in enumerate(word_pos_tags)] \n",
    "    return \" \".join(a)\n",
    "\n",
    "# Call all functions\n",
    "def finalpreprocess(string):\n",
    "    return lemmatizer(stopword(preprocess(string)))\n"
   ]
  },
  {
   "cell_type": "code",
   "execution_count": 162,
   "id": "db681397-fe1d-437d-a17c-b04b43b8878d",
   "metadata": {},
   "outputs": [
    {
     "data": {
      "text/html": [
       "<div>\n",
       "<style scoped>\n",
       "    .dataframe tbody tr th:only-of-type {\n",
       "        vertical-align: middle;\n",
       "    }\n",
       "\n",
       "    .dataframe tbody tr th {\n",
       "        vertical-align: top;\n",
       "    }\n",
       "\n",
       "    .dataframe thead th {\n",
       "        text-align: right;\n",
       "    }\n",
       "</style>\n",
       "<table border=\"1\" class=\"dataframe\">\n",
       "  <thead>\n",
       "    <tr style=\"text-align: right;\">\n",
       "      <th></th>\n",
       "      <th>text</th>\n",
       "      <th>label</th>\n",
       "      <th>clean_text</th>\n",
       "    </tr>\n",
       "  </thead>\n",
       "  <tbody>\n",
       "    <tr>\n",
       "      <th>0</th>\n",
       "      <td>they can breed any time of the year their gest...</td>\n",
       "      <td>0</td>\n",
       "      <td>breed time year gestation period day longer ro...</td>\n",
       "    </tr>\n",
       "    <tr>\n",
       "      <th>1</th>\n",
       "      <td>mouse the keystone cops of rodents</td>\n",
       "      <td>0</td>\n",
       "      <td>mouse keystone cop rodent</td>\n",
       "    </tr>\n",
       "    <tr>\n",
       "      <th>2</th>\n",
       "      <td>some species of the jerboa family have long ea...</td>\n",
       "      <td>0</td>\n",
       "      <td>specie jerboa family long ears like rabbit whi...</td>\n",
       "    </tr>\n",
       "    <tr>\n",
       "      <th>3</th>\n",
       "      <td>they use quadrupedal locomotion but their larg...</td>\n",
       "      <td>0</td>\n",
       "      <td>use quadrupedal locomotion large aerial phase ...</td>\n",
       "    </tr>\n",
       "    <tr>\n",
       "      <th>4</th>\n",
       "      <td>armenian birch mouse</td>\n",
       "      <td>0</td>\n",
       "      <td>armenian birch mouse</td>\n",
       "    </tr>\n",
       "  </tbody>\n",
       "</table>\n",
       "</div>"
      ],
      "text/plain": [
       "                                                text  label  \\\n",
       "0  they can breed any time of the year their gest...      0   \n",
       "1                 mouse the keystone cops of rodents      0   \n",
       "2  some species of the jerboa family have long ea...      0   \n",
       "3  they use quadrupedal locomotion but their larg...      0   \n",
       "4                               armenian birch mouse      0   \n",
       "\n",
       "                                          clean_text  \n",
       "0  breed time year gestation period day longer ro...  \n",
       "1                          mouse keystone cop rodent  \n",
       "2  specie jerboa family long ears like rabbit whi...  \n",
       "3  use quadrupedal locomotion large aerial phase ...  \n",
       "4                               armenian birch mouse  "
      ]
     },
     "execution_count": 162,
     "metadata": {},
     "output_type": "execute_result"
    }
   ],
   "source": [
    "# Initialize text preprocessing\n",
    "df['clean_text'] = df['text'].apply(lambda x: finalpreprocess(x))\n",
    "df.head()"
   ]
  },
  {
   "cell_type": "markdown",
   "id": "bbe9a765-740c-4162-9925-e50512232402",
   "metadata": {},
   "source": [
    "## Splitting Data into Train and Test"
   ]
  },
  {
   "cell_type": "code",
   "execution_count": 164,
   "id": "5350f9f0-ec6a-4f5f-a169-a383d49508e7",
   "metadata": {},
   "outputs": [],
   "source": [
    "X = df['text'].values\n",
    "y = df['label']\n",
    "\n",
    "X_train, X_test, y_train, y_test = train_test_split(X, y, test_size=0.2, shuffle=True)"
   ]
  },
  {
   "cell_type": "code",
   "execution_count": 165,
   "id": "04d1f052-13b0-4dac-af20-70fa9d107bd2",
   "metadata": {},
   "outputs": [
    {
     "name": "stdout",
     "output_type": "stream",
     "text": [
      "(38552,)\n",
      "(9639,)\n"
     ]
    }
   ],
   "source": [
    "print(X_train.shape)\n",
    "print(X_test.shape)"
   ]
  },
  {
   "cell_type": "markdown",
   "id": "65be1808-d145-42e2-be8a-cc5fa2b03b24",
   "metadata": {},
   "source": [
    "## Vectorization approaches (Word Embedding)\n",
    "Use three vectorization techniques to convert the texts into vectors"
   ]
  },
  {
   "cell_type": "code",
   "execution_count": 166,
   "id": "72f6c727-4a01-4d60-a5ca-9163202f9e1b",
   "metadata": {},
   "outputs": [],
   "source": [
    "# Count Vectorizer\n",
    "count_vectorizer = CountVectorizer(analyzer='word', token_pattern=r'\\w{1,}')\n",
    "X_train_countVec =  count_vectorizer.fit_transform(X_train)\n",
    "X_test_countVec =  count_vectorizer.transform(X_test)\n",
    "\n",
    "#Tf-Idf\n",
    "tfidf_vectorizer = TfidfVectorizer(use_idf=True)\n",
    "X_train_vectors_tfidf = tfidf_vectorizer.fit_transform(X_train) \n",
    "X_test_vectors_tfidf = tfidf_vectorizer.transform(X_test)\n",
    "\n",
    "# ngram level tf-idf \n",
    "tfidf_vect_ngram = TfidfVectorizer(analyzer='word', token_pattern=r'\\w{1,}', ngram_range=(2,3))\n",
    "X_train_tfidf_ngram =  tfidf_vect_ngram.fit_transform(X_train)\n",
    "X_test_tfidf_ngram =  tfidf_vect_ngram.transform(X_test)"
   ]
  },
  {
   "cell_type": "markdown",
   "id": "bd9f3e7f-d2b2-409c-bd75-c110809d39b3",
   "metadata": {},
   "source": [
    "## Create a generic function to train a model with the given inputs"
   ]
  },
  {
   "cell_type": "code",
   "execution_count": 167,
   "id": "407f2ea4-dfd4-4493-a21b-c5584181fb2f",
   "metadata": {},
   "outputs": [],
   "source": [
    "def train_model(classifier, X_vector_train, y_train, X_vector_test):\n",
    "    # train the model on training dataset\n",
    "    model = classifier()\n",
    "    model.fit(X_vector_train, y_train)\n",
    " \n",
    "    # Predict the labels on test dataset\n",
    "    predictions = model.predict(X_vector_test)\n",
    "    \n",
    "    # Get the probability of predictions\n",
    "    predictions_prob = model.predict_proba(X_vector_test)[:,1]\n",
    "    \n",
    "    # Report\n",
    "    print(classification_report(y_test,predictions))\n",
    "    print('Confusion Matrix:',confusion_matrix(y_test, predictions))\n",
    "    fpr, tpr, thresholds = roc_curve(y_test, predictions_prob)\n",
    "    print('')\n",
    "    \n",
    "    # Calculating Accuracy\n",
    "    print('Accuracy Score :', round(accuracy_score(predictions, y_test) *100, 4))\n",
    "    \n",
    "    # Calculating AUC \n",
    "    roc_auc = auc(fpr, tpr)\n",
    "    print('AUC:', round(roc_auc, 4))\n",
    "    \n",
    "    return predictions\n",
    "    "
   ]
  },
  {
   "cell_type": "markdown",
   "id": "70ab4c6d-016b-4031-92a6-e9d2dc93b1db",
   "metadata": {},
   "source": [
    "## Logistic Regression\n",
    "Train the model with Logistic Regression"
   ]
  },
  {
   "cell_type": "code",
   "execution_count": 168,
   "id": "21ed8877-946a-43ed-b165-2c560855b080",
   "metadata": {},
   "outputs": [
    {
     "name": "stdout",
     "output_type": "stream",
     "text": [
      "              precision    recall  f1-score   support\n",
      "\n",
      "           0       0.96      0.96      0.96      4466\n",
      "           1       0.97      0.97      0.97      5173\n",
      "\n",
      "    accuracy                           0.97      9639\n",
      "   macro avg       0.97      0.97      0.97      9639\n",
      "weighted avg       0.97      0.97      0.97      9639\n",
      "\n",
      "Confusion Matrix: [[4309  157]\n",
      " [ 174 4999]]\n",
      "\n",
      "Accuracy Score : 96.566\n",
      "AUC: 0.994\n"
     ]
    }
   ],
   "source": [
    "# Count Vectorizer\n",
    "y_predict_cv = train_model(linear_model.LogisticRegression, X_train_countVec, y_train, X_test_countVec)"
   ]
  },
  {
   "cell_type": "code",
   "execution_count": 169,
   "id": "d1317aff-de7b-4c86-9e83-bee5a42c7ff7",
   "metadata": {},
   "outputs": [
    {
     "name": "stdout",
     "output_type": "stream",
     "text": [
      "              precision    recall  f1-score   support\n",
      "\n",
      "           0       0.96      0.97      0.96      4466\n",
      "           1       0.97      0.96      0.97      5173\n",
      "\n",
      "    accuracy                           0.96      9639\n",
      "   macro avg       0.96      0.96      0.96      9639\n",
      "weighted avg       0.96      0.96      0.96      9639\n",
      "\n",
      "Confusion Matrix: [[4310  156]\n",
      " [ 186 4987]]\n",
      "\n",
      "Accuracy Score : 96.4519\n",
      "AUC: 0.9941\n"
     ]
    }
   ],
   "source": [
    "# TF-IDF Vectors\n",
    "y_predict_TFIDF = train_model(linear_model.LogisticRegression, X_train_vectors_tfidf, y_train, X_test_vectors_tfidf)"
   ]
  },
  {
   "cell_type": "code",
   "execution_count": 170,
   "id": "75098b34-9ca9-462a-b0ee-327bdaef21ae",
   "metadata": {},
   "outputs": [
    {
     "name": "stdout",
     "output_type": "stream",
     "text": [
      "              precision    recall  f1-score   support\n",
      "\n",
      "           0       0.92      0.90      0.91      4466\n",
      "           1       0.92      0.93      0.93      5173\n",
      "\n",
      "    accuracy                           0.92      9639\n",
      "   macro avg       0.92      0.92      0.92      9639\n",
      "weighted avg       0.92      0.92      0.92      9639\n",
      "\n",
      "Confusion Matrix: [[4035  431]\n",
      " [ 346 4827]]\n",
      "\n",
      "Accuracy Score : 91.939\n",
      "AUC: 0.9739\n"
     ]
    }
   ],
   "source": [
    "# ngram level TF-IDF Vectors\n",
    "y_predict_ngram = train_model(linear_model.LogisticRegression, X_train_tfidf_ngram, y_train, X_test_tfidf_ngram)"
   ]
  },
  {
   "cell_type": "markdown",
   "id": "4e8a6cd8-6053-4a94-988d-a72b46bc9967",
   "metadata": {},
   "source": []
  },
  {
   "cell_type": "markdown",
   "id": "b721c1e4-dd43-494f-af3e-6a6de6d2a595",
   "metadata": {},
   "source": [
    "## Naive Bayesian"
   ]
  },
  {
   "cell_type": "code",
   "execution_count": 171,
   "id": "29d2db8b-51cf-454c-bb04-709ebf65a07b",
   "metadata": {},
   "outputs": [
    {
     "name": "stdout",
     "output_type": "stream",
     "text": [
      "              precision    recall  f1-score   support\n",
      "\n",
      "           0       0.96      0.97      0.96      4466\n",
      "           1       0.97      0.97      0.97      5173\n",
      "\n",
      "    accuracy                           0.97      9639\n",
      "   macro avg       0.97      0.97      0.97      9639\n",
      "weighted avg       0.97      0.97      0.97      9639\n",
      "\n",
      "Confusion Matrix: [[4331  135]\n",
      " [ 181 4992]]\n",
      "\n",
      "Accuracy Score : 96.7217\n",
      "AUC: 0.9944\n"
     ]
    }
   ],
   "source": [
    "# Count Vectorizer\n",
    "y_predict_cv = train_model(naive_bayes.MultinomialNB, X_train_countVec, y_train, X_test_countVec)"
   ]
  },
  {
   "cell_type": "code",
   "execution_count": 172,
   "id": "fbedcc07-f508-4fbb-98df-e730ff3c3ec8",
   "metadata": {},
   "outputs": [
    {
     "name": "stdout",
     "output_type": "stream",
     "text": [
      "              precision    recall  f1-score   support\n",
      "\n",
      "           0       0.97      0.97      0.97      4466\n",
      "           1       0.97      0.97      0.97      5173\n",
      "\n",
      "    accuracy                           0.97      9639\n",
      "   macro avg       0.97      0.97      0.97      9639\n",
      "weighted avg       0.97      0.97      0.97      9639\n",
      "\n",
      "Confusion Matrix: [[4317  149]\n",
      " [ 146 5027]]\n",
      "\n",
      "Accuracy Score : 96.9395\n",
      "AUC: 0.9955\n"
     ]
    }
   ],
   "source": [
    "# TF-IDF Vectors\n",
    "y_predict_TFIDF = train_model(naive_bayes.MultinomialNB, X_train_vectors_tfidf, y_train, X_test_vectors_tfidf)"
   ]
  },
  {
   "cell_type": "code",
   "execution_count": 173,
   "id": "40398947-8bf9-4298-8e99-a80733e69edf",
   "metadata": {},
   "outputs": [
    {
     "name": "stdout",
     "output_type": "stream",
     "text": [
      "              precision    recall  f1-score   support\n",
      "\n",
      "           0       0.96      0.93      0.94      4466\n",
      "           1       0.94      0.97      0.95      5173\n",
      "\n",
      "    accuracy                           0.95      9639\n",
      "   macro avg       0.95      0.95      0.95      9639\n",
      "weighted avg       0.95      0.95      0.95      9639\n",
      "\n",
      "Confusion Matrix: [[4139  327]\n",
      " [ 163 5010]]\n",
      "\n",
      "Accuracy Score : 94.9165\n",
      "AUC: 0.9907\n"
     ]
    }
   ],
   "source": [
    "# ngram level TF-IDF Vectors\n",
    "y_predict_ngram = train_model(naive_bayes.MultinomialNB, X_train_tfidf_ngram, y_train, X_test_tfidf_ngram)"
   ]
  },
  {
   "cell_type": "markdown",
   "id": "0f251eeb-7250-4ebf-9354-bf2e51e285b5",
   "metadata": {},
   "source": [
    "## Display the predicted labels and the texts"
   ]
  },
  {
   "cell_type": "code",
   "execution_count": 174,
   "id": "012bef77-156e-4d28-8989-2b330aa0f019",
   "metadata": {},
   "outputs": [
    {
     "data": {
      "text/html": [
       "<div>\n",
       "<style scoped>\n",
       "    .dataframe tbody tr th:only-of-type {\n",
       "        vertical-align: middle;\n",
       "    }\n",
       "\n",
       "    .dataframe tbody tr th {\n",
       "        vertical-align: top;\n",
       "    }\n",
       "\n",
       "    .dataframe thead th {\n",
       "        text-align: right;\n",
       "    }\n",
       "</style>\n",
       "<table border=\"1\" class=\"dataframe\">\n",
       "  <thead>\n",
       "    <tr style=\"text-align: right;\">\n",
       "      <th></th>\n",
       "      <th>text</th>\n",
       "      <th>label</th>\n",
       "    </tr>\n",
       "  </thead>\n",
       "  <tbody>\n",
       "    <tr>\n",
       "      <th>0</th>\n",
       "      <td>however it will not function only touchpad mou...</td>\n",
       "      <td>computer</td>\n",
       "    </tr>\n",
       "    <tr>\n",
       "      <th>1</th>\n",
       "      <td>was gonna buy the gaming mouse but finally fou...</td>\n",
       "      <td>computer</td>\n",
       "    </tr>\n",
       "    <tr>\n",
       "      <th>2</th>\n",
       "      <td>my little foster mouse tedward is so different...</td>\n",
       "      <td>animal</td>\n",
       "    </tr>\n",
       "    <tr>\n",
       "      <th>3</th>\n",
       "      <td>thanks for the info scaredymouse am just explo...</td>\n",
       "      <td>animal</td>\n",
       "    </tr>\n",
       "    <tr>\n",
       "      <th>4</th>\n",
       "      <td>mouse pad steelseries black</td>\n",
       "      <td>computer</td>\n",
       "    </tr>\n",
       "    <tr>\n",
       "      <th>5</th>\n",
       "      <td>what are your thoughts find it is an interesti...</td>\n",
       "      <td>computer</td>\n",
       "    </tr>\n",
       "    <tr>\n",
       "      <th>6</th>\n",
       "      <td>razer mouse build qality</td>\n",
       "      <td>computer</td>\n",
       "    </tr>\n",
       "    <tr>\n",
       "      <th>7</th>\n",
       "      <td>and now for picture of april with her porridge...</td>\n",
       "      <td>animal</td>\n",
       "    </tr>\n",
       "    <tr>\n",
       "      <th>8</th>\n",
       "      <td>don worry too much about escaping mouse aren w...</td>\n",
       "      <td>animal</td>\n",
       "    </tr>\n",
       "    <tr>\n",
       "      <th>9</th>\n",
       "      <td>every time witness mouse stretch yawn am gutte...</td>\n",
       "      <td>animal</td>\n",
       "    </tr>\n",
       "  </tbody>\n",
       "</table>\n",
       "</div>"
      ],
      "text/plain": [
       "                                                text     label\n",
       "0  however it will not function only touchpad mou...  computer\n",
       "1  was gonna buy the gaming mouse but finally fou...  computer\n",
       "2  my little foster mouse tedward is so different...    animal\n",
       "3  thanks for the info scaredymouse am just explo...    animal\n",
       "4                        mouse pad steelseries black  computer\n",
       "5  what are your thoughts find it is an interesti...  computer\n",
       "6                           razer mouse build qality  computer\n",
       "7  and now for picture of april with her porridge...    animal\n",
       "8  don worry too much about escaping mouse aren w...    animal\n",
       "9  every time witness mouse stretch yawn am gutte...    animal"
      ]
     },
     "execution_count": 174,
     "metadata": {},
     "output_type": "execute_result"
    }
   ],
   "source": [
    "dataset = pd.DataFrame({'label': y_predict_TFIDF, 'text': list(X_test)}, columns=['text', 'label'])\n",
    "final_dataset = dataset.replace(0, 'animal')\n",
    "final_dataset = final_dataset.replace(1, 'computer')\n",
    "final_dataset.head(10)"
   ]
  },
  {
   "cell_type": "markdown",
   "id": "8fbbbf5b-d434-406d-a25e-7fdeddc3e57a",
   "metadata": {},
   "source": [
    "## Ensembling the Models for improving Predictions"
   ]
  },
  {
   "cell_type": "code",
   "execution_count": 175,
   "id": "d1fdac83-7399-41d7-9de9-c0ed8bb89ef3",
   "metadata": {},
   "outputs": [],
   "source": [
    "# Picking the three best performing models and vectorizers\n",
    "model1 = linear_model.LogisticRegression().fit(X_train_vectors_tfidf, y_train)\n",
    "model2 = naive_bayes.MultinomialNB().fit(X_train_countVec, y_train)\n",
    "model3 = naive_bayes.MultinomialNB().fit(X_train_vectors_tfidf, y_train)\n",
    "\n",
    "def predict_text(text):\n",
    "    text = text.lower()\n",
    "    # Vectorize the text\n",
    "    count_feature_vector = count_vectorizer.transform([text])\n",
    "    tfidf_feature_vector = tfidf_vectorizer.transform([text])\n",
    "    result_list = []\n",
    "    \n",
    "    # Perform prediction on each model\n",
    "    result1 = model1.predict(tfidf_feature_vector)\n",
    "    result_list.append(result1[0])\n",
    "    result2 = model2.predict(count_feature_vector)\n",
    "    result_list.append(result2[0])\n",
    "    result3 = model3.predict(tfidf_feature_vector)\n",
    "    result_list.append(result3[0])\n",
    "    \n",
    "    #return result_list\n",
    "    result = [max(result_list)][0]\n",
    "    if result == 0:\n",
    "        return \"animal\"\n",
    "    else:\n",
    "        return \"computer\"\n"
   ]
  },
  {
   "cell_type": "code",
   "execution_count": 176,
   "id": "da1463ce-b07e-4965-96fc-e6b04ca48f42",
   "metadata": {},
   "outputs": [
    {
     "name": "stdout",
     "output_type": "stream",
     "text": [
      "animal\n"
     ]
    }
   ],
   "source": [
    "text = \"There is a big mouse in my yard\"\n",
    "print(predict_text(text))"
   ]
  },
  {
   "cell_type": "code",
   "execution_count": 177,
   "id": "050f556f-bad8-48e7-ac7c-9bc6567be82a",
   "metadata": {},
   "outputs": [
    {
     "name": "stdout",
     "output_type": "stream",
     "text": [
      "computer\n"
     ]
    }
   ],
   "source": [
    "text = text_to_predict = \"My mouse is very accurate\"\n",
    "print(predict_text(text))"
   ]
  },
  {
   "cell_type": "code",
   "execution_count": null,
   "id": "f39116ef-8325-4ff9-b9a2-08609a2abd5e",
   "metadata": {},
   "outputs": [],
   "source": []
  }
 ],
 "metadata": {
  "kernelspec": {
   "display_name": "Python 3 (ipykernel)",
   "language": "python",
   "name": "python3"
  },
  "language_info": {
   "codemirror_mode": {
    "name": "ipython",
    "version": 3
   },
   "file_extension": ".py",
   "mimetype": "text/x-python",
   "name": "python",
   "nbconvert_exporter": "python",
   "pygments_lexer": "ipython3",
   "version": "3.9.7"
  }
 },
 "nbformat": 4,
 "nbformat_minor": 5
}
